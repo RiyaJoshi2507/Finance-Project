{
 "cells": [
  {
   "cell_type": "code",
   "execution_count": 1,
   "id": "349acd03-db5f-4630-9ca3-f689b72716df",
   "metadata": {},
   "outputs": [],
   "source": [
    "import pandas as pd\n",
    "import numpy as np\n",
    "import seaborn as sns\n",
    "import matplotlib.pyplot as plt"
   ]
  },
  {
   "cell_type": "code",
   "execution_count": 5,
   "id": "62b8987d-1bd6-45fd-9e22-c6d7c889356a",
   "metadata": {},
   "outputs": [
    {
     "data": {
      "text/html": [
       "<div>\n",
       "<style scoped>\n",
       "    .dataframe tbody tr th:only-of-type {\n",
       "        vertical-align: middle;\n",
       "    }\n",
       "\n",
       "    .dataframe tbody tr th {\n",
       "        vertical-align: top;\n",
       "    }\n",
       "\n",
       "    .dataframe thead th {\n",
       "        text-align: right;\n",
       "    }\n",
       "</style>\n",
       "<table border=\"1\" class=\"dataframe\">\n",
       "  <thead>\n",
       "    <tr style=\"text-align: right;\">\n",
       "      <th></th>\n",
       "      <th>id</th>\n",
       "      <th>address_state</th>\n",
       "      <th>application_type</th>\n",
       "      <th>emp_length</th>\n",
       "      <th>emp_title</th>\n",
       "      <th>grade</th>\n",
       "      <th>home_ownership</th>\n",
       "      <th>issue_date</th>\n",
       "      <th>last_credit_pull_date</th>\n",
       "      <th>last_payment_date</th>\n",
       "      <th>...</th>\n",
       "      <th>sub_grade</th>\n",
       "      <th>term</th>\n",
       "      <th>verification_status</th>\n",
       "      <th>annual_income</th>\n",
       "      <th>dti</th>\n",
       "      <th>installment</th>\n",
       "      <th>int_rate</th>\n",
       "      <th>loan_amount</th>\n",
       "      <th>total_acc</th>\n",
       "      <th>total_payment</th>\n",
       "    </tr>\n",
       "  </thead>\n",
       "  <tbody>\n",
       "    <tr>\n",
       "      <th>0</th>\n",
       "      <td>238612</td>\n",
       "      <td>NY</td>\n",
       "      <td>INDIVIDUAL</td>\n",
       "      <td>&lt; 1 year</td>\n",
       "      <td>Rochester Institute of Technology</td>\n",
       "      <td>A</td>\n",
       "      <td>RENT</td>\n",
       "      <td>2021-01-08</td>\n",
       "      <td>10-06-2021</td>\n",
       "      <td>10-06-2021</td>\n",
       "      <td>...</td>\n",
       "      <td>A4</td>\n",
       "      <td>36 months</td>\n",
       "      <td>Not Verified</td>\n",
       "      <td>30000.0</td>\n",
       "      <td>0.0368</td>\n",
       "      <td>62.74</td>\n",
       "      <td>0.0807</td>\n",
       "      <td>2000</td>\n",
       "      <td>2</td>\n",
       "      <td>2240</td>\n",
       "    </tr>\n",
       "    <tr>\n",
       "      <th>1</th>\n",
       "      <td>349714</td>\n",
       "      <td>TN</td>\n",
       "      <td>INDIVIDUAL</td>\n",
       "      <td>2 years</td>\n",
       "      <td>Rothschild  and  Associates PLLC</td>\n",
       "      <td>B</td>\n",
       "      <td>RENT</td>\n",
       "      <td>2021-06-08</td>\n",
       "      <td>16-05-2021</td>\n",
       "      <td>08-12-2021</td>\n",
       "      <td>...</td>\n",
       "      <td>B4</td>\n",
       "      <td>36 months</td>\n",
       "      <td>Verified</td>\n",
       "      <td>42000.0</td>\n",
       "      <td>0.0326</td>\n",
       "      <td>243.38</td>\n",
       "      <td>0.1039</td>\n",
       "      <td>7500</td>\n",
       "      <td>2</td>\n",
       "      <td>1460</td>\n",
       "    </tr>\n",
       "    <tr>\n",
       "      <th>2</th>\n",
       "      <td>149575</td>\n",
       "      <td>SC</td>\n",
       "      <td>INDIVIDUAL</td>\n",
       "      <td>&lt; 1 year</td>\n",
       "      <td>First Federal</td>\n",
       "      <td>A</td>\n",
       "      <td>RENT</td>\n",
       "      <td>2021-11-07</td>\n",
       "      <td>09-10-2021</td>\n",
       "      <td>09-10-2021</td>\n",
       "      <td>...</td>\n",
       "      <td>A5</td>\n",
       "      <td>36 months</td>\n",
       "      <td>Not Verified</td>\n",
       "      <td>30000.0</td>\n",
       "      <td>0.0420</td>\n",
       "      <td>315.12</td>\n",
       "      <td>0.0838</td>\n",
       "      <td>10000</td>\n",
       "      <td>2</td>\n",
       "      <td>11122</td>\n",
       "    </tr>\n",
       "    <tr>\n",
       "      <th>3</th>\n",
       "      <td>88854</td>\n",
       "      <td>NY</td>\n",
       "      <td>INDIVIDUAL</td>\n",
       "      <td>4 years</td>\n",
       "      <td>Rail Europe Group</td>\n",
       "      <td>A</td>\n",
       "      <td>RENT</td>\n",
       "      <td>2021-08-07</td>\n",
       "      <td>07-05-2021</td>\n",
       "      <td>08-03-2021</td>\n",
       "      <td>...</td>\n",
       "      <td>A2</td>\n",
       "      <td>36 months</td>\n",
       "      <td>Not Verified</td>\n",
       "      <td>200000.0</td>\n",
       "      <td>0.0028</td>\n",
       "      <td>155.38</td>\n",
       "      <td>0.0743</td>\n",
       "      <td>5000</td>\n",
       "      <td>2</td>\n",
       "      <td>5174</td>\n",
       "    </tr>\n",
       "    <tr>\n",
       "      <th>4</th>\n",
       "      <td>1062654</td>\n",
       "      <td>CA</td>\n",
       "      <td>INDIVIDUAL</td>\n",
       "      <td>4 years</td>\n",
       "      <td>AEG LIVE</td>\n",
       "      <td>B</td>\n",
       "      <td>RENT</td>\n",
       "      <td>2021-08-11</td>\n",
       "      <td>13-10-2021</td>\n",
       "      <td>13-09-2021</td>\n",
       "      <td>...</td>\n",
       "      <td>B3</td>\n",
       "      <td>36 months</td>\n",
       "      <td>Not Verified</td>\n",
       "      <td>35000.0</td>\n",
       "      <td>0.0401</td>\n",
       "      <td>165.38</td>\n",
       "      <td>0.1171</td>\n",
       "      <td>5000</td>\n",
       "      <td>3</td>\n",
       "      <td>5728</td>\n",
       "    </tr>\n",
       "  </tbody>\n",
       "</table>\n",
       "<p>5 rows × 24 columns</p>\n",
       "</div>"
      ],
      "text/plain": [
       "        id address_state application_type emp_length  \\\n",
       "0   238612            NY       INDIVIDUAL   < 1 year   \n",
       "1   349714            TN       INDIVIDUAL    2 years   \n",
       "2   149575            SC       INDIVIDUAL   < 1 year   \n",
       "3    88854            NY       INDIVIDUAL    4 years   \n",
       "4  1062654            CA       INDIVIDUAL    4 years   \n",
       "\n",
       "                           emp_title grade home_ownership  issue_date  \\\n",
       "0  Rochester Institute of Technology     A           RENT  2021-01-08   \n",
       "1   Rothschild  and  Associates PLLC     B           RENT  2021-06-08   \n",
       "2                      First Federal     A           RENT  2021-11-07   \n",
       "3                  Rail Europe Group     A           RENT  2021-08-07   \n",
       "4                           AEG LIVE     B           RENT  2021-08-11   \n",
       "\n",
       "  last_credit_pull_date last_payment_date  ... sub_grade        term  \\\n",
       "0            10-06-2021        10-06-2021  ...        A4   36 months   \n",
       "1            16-05-2021        08-12-2021  ...        B4   36 months   \n",
       "2            09-10-2021        09-10-2021  ...        A5   36 months   \n",
       "3            07-05-2021        08-03-2021  ...        A2   36 months   \n",
       "4            13-10-2021        13-09-2021  ...        B3   36 months   \n",
       "\n",
       "   verification_status annual_income     dti installment int_rate  \\\n",
       "0         Not Verified       30000.0  0.0368       62.74   0.0807   \n",
       "1             Verified       42000.0  0.0326      243.38   0.1039   \n",
       "2         Not Verified       30000.0  0.0420      315.12   0.0838   \n",
       "3         Not Verified      200000.0  0.0028      155.38   0.0743   \n",
       "4         Not Verified       35000.0  0.0401      165.38   0.1171   \n",
       "\n",
       "   loan_amount  total_acc  total_payment  \n",
       "0         2000          2           2240  \n",
       "1         7500          2           1460  \n",
       "2        10000          2          11122  \n",
       "3         5000          2           5174  \n",
       "4         5000          3           5728  \n",
       "\n",
       "[5 rows x 24 columns]"
      ]
     },
     "execution_count": 5,
     "metadata": {},
     "output_type": "execute_result"
    }
   ],
   "source": [
    "df=pd.read_csv(r\"E:\\Data Analyst\\Projects\\Finance\\financial_loan.csv\")\n",
    "df.head(5)"
   ]
  },
  {
   "cell_type": "code",
   "execution_count": 7,
   "id": "f9f69902-404e-4147-b0b7-506f03090cc4",
   "metadata": {},
   "outputs": [
    {
     "name": "stdout",
     "output_type": "stream",
     "text": [
      "<class 'pandas.core.frame.DataFrame'>\n",
      "RangeIndex: 38576 entries, 0 to 38575\n",
      "Data columns (total 24 columns):\n",
      " #   Column                 Non-Null Count  Dtype  \n",
      "---  ------                 --------------  -----  \n",
      " 0   id                     38576 non-null  int64  \n",
      " 1   address_state          38576 non-null  object \n",
      " 2   application_type       38576 non-null  object \n",
      " 3   emp_length             38576 non-null  object \n",
      " 4   emp_title              37138 non-null  object \n",
      " 5   grade                  38576 non-null  object \n",
      " 6   home_ownership         38576 non-null  object \n",
      " 7   issue_date             38576 non-null  object \n",
      " 8   last_credit_pull_date  38576 non-null  object \n",
      " 9   last_payment_date      38576 non-null  object \n",
      " 10  loan_status            38576 non-null  object \n",
      " 11  next_payment_date      38576 non-null  object \n",
      " 12  member_id              38576 non-null  int64  \n",
      " 13  purpose                38576 non-null  object \n",
      " 14  sub_grade              38576 non-null  object \n",
      " 15  term                   38576 non-null  object \n",
      " 16  verification_status    38576 non-null  object \n",
      " 17  annual_income          38576 non-null  float64\n",
      " 18  dti                    38576 non-null  float64\n",
      " 19  installment            38576 non-null  float64\n",
      " 20  int_rate               38576 non-null  float64\n",
      " 21  loan_amount            38576 non-null  int64  \n",
      " 22  total_acc              38576 non-null  int64  \n",
      " 23  total_payment          38576 non-null  int64  \n",
      "dtypes: float64(4), int64(5), object(15)\n",
      "memory usage: 7.1+ MB\n"
     ]
    }
   ],
   "source": [
    "df.info()"
   ]
  },
  {
   "cell_type": "markdown",
   "id": "cadb0329-6beb-478c-911f-8e55f0939852",
   "metadata": {},
   "source": [
    "Find the null"
   ]
  },
  {
   "cell_type": "code",
   "execution_count": 9,
   "id": "ae6d24a0-70a3-4c6d-bc85-e2a093e1252d",
   "metadata": {},
   "outputs": [
    {
     "data": {
      "text/plain": [
       "id                          0\n",
       "address_state               0\n",
       "application_type            0\n",
       "emp_length                  0\n",
       "emp_title                1438\n",
       "grade                       0\n",
       "home_ownership              0\n",
       "issue_date                  0\n",
       "last_credit_pull_date       0\n",
       "last_payment_date           0\n",
       "loan_status                 0\n",
       "next_payment_date           0\n",
       "member_id                   0\n",
       "purpose                     0\n",
       "sub_grade                   0\n",
       "term                        0\n",
       "verification_status         0\n",
       "annual_income               0\n",
       "dti                         0\n",
       "installment                 0\n",
       "int_rate                    0\n",
       "loan_amount                 0\n",
       "total_acc                   0\n",
       "total_payment               0\n",
       "dtype: int64"
      ]
     },
     "execution_count": 9,
     "metadata": {},
     "output_type": "execute_result"
    }
   ],
   "source": [
    "df.isnull().sum()"
   ]
  },
  {
   "cell_type": "markdown",
   "id": "ecd66c5f-8aa4-4fee-b93c-b1e01388ced7",
   "metadata": {},
   "source": [
    "Find the Duplicates"
   ]
  },
  {
   "cell_type": "code",
   "execution_count": 11,
   "id": "c67ca0b4-62ba-4c50-8768-2cde1e9f081a",
   "metadata": {},
   "outputs": [
    {
     "data": {
      "text/plain": [
       "0"
      ]
     },
     "execution_count": 11,
     "metadata": {},
     "output_type": "execute_result"
    }
   ],
   "source": [
    "df.duplicated().sum()"
   ]
  },
  {
   "cell_type": "code",
   "execution_count": 31,
   "id": "fa47e954-1622-4336-b57f-1484a3d548e7",
   "metadata": {},
   "outputs": [],
   "source": [
    "date_cols=['issue_date','last_credit_pull_date','last_payment_date','next_payment_date']"
   ]
  },
  {
   "cell_type": "code",
   "execution_count": 33,
   "id": "245223a0-80fc-407c-bc62-58ea82cb93b7",
   "metadata": {},
   "outputs": [],
   "source": [
    "for col in date_cols:\n",
    "    df[col]=pd.to_datetime(df[col],errors='coerce')"
   ]
  },
  {
   "cell_type": "code",
   "execution_count": 35,
   "id": "22874fd8-58a6-4593-a266-31375e60e5aa",
   "metadata": {
    "scrolled": true
   },
   "outputs": [
    {
     "name": "stdout",
     "output_type": "stream",
     "text": [
      "<class 'pandas.core.frame.DataFrame'>\n",
      "RangeIndex: 38576 entries, 0 to 38575\n",
      "Data columns (total 24 columns):\n",
      " #   Column                 Non-Null Count  Dtype         \n",
      "---  ------                 --------------  -----         \n",
      " 0   id                     38576 non-null  int64         \n",
      " 1   address_state          38576 non-null  object        \n",
      " 2   application_type       38576 non-null  object        \n",
      " 3   emp_length             38576 non-null  object        \n",
      " 4   emp_title              37138 non-null  object        \n",
      " 5   grade                  38576 non-null  object        \n",
      " 6   home_ownership         38576 non-null  object        \n",
      " 7   issue_date             38576 non-null  datetime64[ns]\n",
      " 8   last_credit_pull_date  7213 non-null   datetime64[ns]\n",
      " 9   last_payment_date      16143 non-null  datetime64[ns]\n",
      " 10  loan_status            38576 non-null  object        \n",
      " 11  next_payment_date      16143 non-null  datetime64[ns]\n",
      " 12  member_id              38576 non-null  int64         \n",
      " 13  purpose                38576 non-null  object        \n",
      " 14  sub_grade              38576 non-null  object        \n",
      " 15  term                   38576 non-null  object        \n",
      " 16  verification_status    38576 non-null  object        \n",
      " 17  annual_income          38576 non-null  float64       \n",
      " 18  dti                    38576 non-null  float64       \n",
      " 19  installment            38576 non-null  float64       \n",
      " 20  int_rate               38576 non-null  float64       \n",
      " 21  loan_amount            38576 non-null  int64         \n",
      " 22  total_acc              38576 non-null  int64         \n",
      " 23  total_payment          38576 non-null  int64         \n",
      "dtypes: datetime64[ns](4), float64(4), int64(5), object(11)\n",
      "memory usage: 7.1+ MB\n"
     ]
    }
   ],
   "source": [
    "df.info()"
   ]
  },
  {
   "cell_type": "markdown",
   "id": "173a3e9d-952b-4a2c-b0c3-ce0b4b3bd7d6",
   "metadata": {},
   "source": [
    "KPI’S"
   ]
  },
  {
   "cell_type": "markdown",
   "id": "5aa9bf36-67af-404f-a5bc-f4b3a9e9e64f",
   "metadata": {},
   "source": [
    "Total Loan Applications"
   ]
  },
  {
   "cell_type": "code",
   "execution_count": 41,
   "id": "8e808d91-fd33-4544-9984-451e37c1f0bf",
   "metadata": {},
   "outputs": [
    {
     "data": {
      "text/plain": [
       "38576"
      ]
     },
     "execution_count": 41,
     "metadata": {},
     "output_type": "execute_result"
    }
   ],
   "source": [
    "Total_Loan_Applications=df['id'].count()\n",
    "Total_Loan_Applications"
   ]
  },
  {
   "cell_type": "markdown",
   "id": "bea6de1e-2460-4388-921c-92e17058ede7",
   "metadata": {},
   "source": [
    "MTD Total Loan Applications"
   ]
  },
  {
   "cell_type": "code",
   "execution_count": 52,
   "id": "88010189-aeb3-413f-9746-4111dcf979d9",
   "metadata": {},
   "outputs": [
    {
     "data": {
      "text/plain": [
       "4314"
      ]
     },
     "execution_count": 52,
     "metadata": {},
     "output_type": "execute_result"
    }
   ],
   "source": [
    "MTD_Total_Loan_Applications=df[df['issue_date'].dt.month==12]['id'].count()\n",
    "MTD_Total_Loan_Applications"
   ]
  },
  {
   "cell_type": "markdown",
   "id": "ba69c88a-8106-4eb0-8c44-045044b3440c",
   "metadata": {},
   "source": [
    "PMTD Total Loan Applications"
   ]
  },
  {
   "cell_type": "code",
   "execution_count": 56,
   "id": "45946893-b4b1-46ab-ab19-12f3705e55d7",
   "metadata": {},
   "outputs": [
    {
     "data": {
      "text/plain": [
       "4035"
      ]
     },
     "execution_count": 56,
     "metadata": {},
     "output_type": "execute_result"
    }
   ],
   "source": [
    "PMTD_Total_Loan_Applications=df[df['issue_date'].dt.month==11]['id'].count()\n",
    "PMTD_Total_Loan_Applications"
   ]
  },
  {
   "cell_type": "markdown",
   "id": "2c1448ef-d996-406c-8e3b-70e1b69878d6",
   "metadata": {},
   "source": [
    "Mom Total Loan Applications"
   ]
  },
  {
   "cell_type": "code",
   "execution_count": 60,
   "id": "fdb7f5c7-683c-4e1d-a735-6b3893c131aa",
   "metadata": {},
   "outputs": [
    {
     "data": {
      "text/plain": [
       "6.91449814126394"
      ]
     },
     "execution_count": 60,
     "metadata": {},
     "output_type": "execute_result"
    }
   ],
   "source": [
    "Mom_Total_Loan_Applications=(MTD_Total_Loan_Applications-PMTD_Total_Loan_Applications)*100/PMTD_Total_Loan_Applications\n",
    "Mom_Total_Loan_Applications"
   ]
  },
  {
   "cell_type": "markdown",
   "id": "2e2f3776-66dd-404b-987b-08bc1578c981",
   "metadata": {},
   "source": [
    "Total Funded Amont"
   ]
  },
  {
   "cell_type": "code",
   "execution_count": 66,
   "id": "9b373d2a-48e0-463e-bebe-7de3eacaf90f",
   "metadata": {},
   "outputs": [
    {
     "data": {
      "text/plain": [
       "435757075"
      ]
     },
     "execution_count": 66,
     "metadata": {},
     "output_type": "execute_result"
    }
   ],
   "source": [
    "Total_Funded_Amont= df['loan_amount'].sum()\n",
    "Total_Funded_Amont"
   ]
  },
  {
   "cell_type": "markdown",
   "id": "d6fc8ea4-fa7f-4765-b740-8ee418f9c102",
   "metadata": {},
   "source": [
    "MTM Total Funded Amont"
   ]
  },
  {
   "cell_type": "code",
   "execution_count": 72,
   "id": "0fe903f8-2abc-471e-be6d-48156e01897d",
   "metadata": {},
   "outputs": [
    {
     "data": {
      "text/plain": [
       "53981425"
      ]
     },
     "execution_count": 72,
     "metadata": {},
     "output_type": "execute_result"
    }
   ],
   "source": [
    "MTM_Total_Funded_Amont=df[df['issue_date'].dt.month==12]['loan_amount'].sum()\n",
    "MTM_Total_Funded_Amont"
   ]
  },
  {
   "cell_type": "markdown",
   "id": "4ade9dcc-b465-4911-aa6f-bd7177fd500f",
   "metadata": {},
   "source": [
    "PMTM Total Funded Amont"
   ]
  },
  {
   "cell_type": "code",
   "execution_count": 74,
   "id": "03a2e445-3422-4246-947f-db3a247a9fd9",
   "metadata": {},
   "outputs": [
    {
     "data": {
      "text/plain": [
       "47754825"
      ]
     },
     "execution_count": 74,
     "metadata": {},
     "output_type": "execute_result"
    }
   ],
   "source": [
    "PTM_Total_Funded_Amont=df[df['issue_date'].dt.month==11]['loan_amount'].sum()\n",
    "PTM_Total_Funded_Amont"
   ]
  },
  {
   "cell_type": "markdown",
   "id": "1af6439b-5d46-4e21-a089-c3306620db7e",
   "metadata": {},
   "source": [
    "MoM Total Funded Amont"
   ]
  },
  {
   "cell_type": "code",
   "execution_count": 76,
   "id": "d232f123-544c-447e-8b78-a8d326a0a701",
   "metadata": {},
   "outputs": [
    {
     "data": {
      "text/plain": [
       "13.038682478681473"
      ]
     },
     "execution_count": 76,
     "metadata": {},
     "output_type": "execute_result"
    }
   ],
   "source": [
    "MoM_Total_Funded_Amont=(MTM_Total_Funded_Amont-PTM_Total_Funded_Amont)*100/PTM_Total_Funded_Amont\n",
    "MoM_Total_Funded_Amont"
   ]
  },
  {
   "cell_type": "markdown",
   "id": "005b5d63-9e69-4c11-b1b5-4b4b274ba9f8",
   "metadata": {},
   "source": [
    "Total Amount Received"
   ]
  },
  {
   "cell_type": "code",
   "execution_count": 78,
   "id": "9b72c7b2-922b-41ea-b829-f117c4c98636",
   "metadata": {},
   "outputs": [
    {
     "data": {
      "text/plain": [
       "473070933"
      ]
     },
     "execution_count": 78,
     "metadata": {},
     "output_type": "execute_result"
    }
   ],
   "source": [
    "Total_Amount_Received=df['total_payment'].sum()\n",
    "Total_Amount_Received"
   ]
  },
  {
   "cell_type": "code",
   "execution_count": 82,
   "id": "f4052bd2-6f91-4e3c-ae8b-6b05935e8d28",
   "metadata": {},
   "outputs": [
    {
     "data": {
      "text/plain": [
       "58074380"
      ]
     },
     "execution_count": 82,
     "metadata": {},
     "output_type": "execute_result"
    }
   ],
   "source": [
    "MTD_Total_Amount_Received=df[df['issue_date'].dt.month==12]['total_payment'].sum()\n",
    "MTD_Total_Amount_Received"
   ]
  },
  {
   "cell_type": "code",
   "execution_count": 84,
   "id": "5b2ed5cb-e571-4e94-9f77-1e6dbc86c430",
   "metadata": {},
   "outputs": [
    {
     "data": {
      "text/plain": [
       "50132030"
      ]
     },
     "execution_count": 84,
     "metadata": {},
     "output_type": "execute_result"
    }
   ],
   "source": [
    "PMTD_Total_Amount_Received=df[df['issue_date'].dt.month==11]['total_payment'].sum()\n",
    "PMTD_Total_Amount_Received"
   ]
  },
  {
   "cell_type": "code",
   "execution_count": 86,
   "id": "85ad0291-cfa1-4826-af57-903661819c10",
   "metadata": {},
   "outputs": [
    {
     "data": {
      "text/plain": [
       "15.842865329810104"
      ]
     },
     "execution_count": 86,
     "metadata": {},
     "output_type": "execute_result"
    }
   ],
   "source": [
    "MoM_Total_Amount_Received=(MTD_Total_Amount_Received-PMTD_Total_Amount_Received)*100/PMTD_Total_Amount_Received\n",
    "MoM_Total_Amount_Received"
   ]
  },
  {
   "cell_type": "markdown",
   "id": "4fc629da-466c-49c1-ad94-52b317cacc5f",
   "metadata": {},
   "source": [
    "Avg Intrest Rate"
   ]
  },
  {
   "cell_type": "code",
   "execution_count": 96,
   "id": "a3e88f81-f2c0-4301-87ad-27df2196d26a",
   "metadata": {},
   "outputs": [
    {
     "data": {
      "text/plain": [
       "12.048831397760265"
      ]
     },
     "execution_count": 96,
     "metadata": {},
     "output_type": "execute_result"
    }
   ],
   "source": [
    "Avg_Intrest_Rate=df['int_rate'].mean()*100\n",
    "Avg_Intrest_Rate"
   ]
  },
  {
   "cell_type": "code",
   "execution_count": 100,
   "id": "716b49e0-dc68-4b83-9acb-f28aaff79763",
   "metadata": {},
   "outputs": [
    {
     "data": {
      "text/plain": [
       "12.3560407974038"
      ]
     },
     "execution_count": 100,
     "metadata": {},
     "output_type": "execute_result"
    }
   ],
   "source": [
    "MTD_Avg_Intrest_Rate=df[df['issue_date'].dt.month==12]['int_rate'].mean()*100\n",
    "MTD_Avg_Intrest_Rate"
   ]
  },
  {
   "cell_type": "code",
   "execution_count": 106,
   "id": "dc9c2bf3-0871-400a-a13a-4768ddd12c9c",
   "metadata": {},
   "outputs": [
    {
     "data": {
      "text/plain": [
       "11.94171747211896"
      ]
     },
     "execution_count": 106,
     "metadata": {},
     "output_type": "execute_result"
    }
   ],
   "source": [
    "PMTD_Avg_Intrest_Rate=df[df['issue_date'].dt.month==11]['int_rate'].mean()*100\n",
    "PMTD_Avg_Intrest_Rate"
   ]
  },
  {
   "cell_type": "code",
   "execution_count": 108,
   "id": "4e6f0d77-867f-46a5-baf5-2dd556230ef3",
   "metadata": {},
   "outputs": [
    {
     "data": {
      "text/plain": [
       "3.4695455344022816"
      ]
     },
     "execution_count": 108,
     "metadata": {},
     "output_type": "execute_result"
    }
   ],
   "source": [
    "MOM_Avg_Intrest_Rate=(MTD_Avg_Intrest_Rate-PMTD_Avg_Intrest_Rate)*100/PMTD_Avg_Intrest_Rate\n",
    "MOM_Avg_Intrest_Rate"
   ]
  },
  {
   "cell_type": "markdown",
   "id": "ba9ffa7a-7cc2-44f4-aab2-039a0e915b95",
   "metadata": {},
   "source": [
    "Avg DTI"
   ]
  },
  {
   "cell_type": "code",
   "execution_count": 110,
   "id": "9c41c0e8-cfad-4610-85dd-d78aff2528ab",
   "metadata": {},
   "outputs": [
    {
     "data": {
      "text/plain": [
       "13.32743311903774"
      ]
     },
     "execution_count": 110,
     "metadata": {},
     "output_type": "execute_result"
    }
   ],
   "source": [
    "Avg_DTI=df['dti'].mean()*100\n",
    "Avg_DTI"
   ]
  },
  {
   "cell_type": "code",
   "execution_count": 112,
   "id": "66270bf7-6967-447d-ac88-58cd332db494",
   "metadata": {},
   "outputs": [
    {
     "data": {
      "text/plain": [
       "13.665537783959202"
      ]
     },
     "execution_count": 112,
     "metadata": {},
     "output_type": "execute_result"
    }
   ],
   "source": [
    "MTD_Avg_DTI=df[df['issue_date'].dt.month==12]['dti'].mean()*100\n",
    "MTD_Avg_DTI"
   ]
  },
  {
   "cell_type": "code",
   "execution_count": 114,
   "id": "affa94ea-0870-404c-8bc7-7a03d81e6ef7",
   "metadata": {},
   "outputs": [
    {
     "data": {
      "text/plain": [
       "13.302733581164809"
      ]
     },
     "execution_count": 114,
     "metadata": {},
     "output_type": "execute_result"
    }
   ],
   "source": [
    "PMTD_Avg_DTI=df[df['issue_date'].dt.month==11]['dti'].mean()*100\n",
    "PMTD_Avg_DTI"
   ]
  },
  {
   "cell_type": "code",
   "execution_count": 116,
   "id": "31b7c184-bbf7-4979-a8c0-8a7e2619734d",
   "metadata": {},
   "outputs": [
    {
     "data": {
      "text/plain": [
       "2.727290602196858"
      ]
     },
     "execution_count": 116,
     "metadata": {},
     "output_type": "execute_result"
    }
   ],
   "source": [
    "MOM_Avg_DTI=(MTD_Avg_DTI-PMTD_Avg_DTI)*100/PMTD_Avg_DTI\n",
    "MOM_Avg_DTI"
   ]
  },
  {
   "cell_type": "markdown",
   "id": "201bffe2-a208-4cb8-bede-3909861c60f4",
   "metadata": {},
   "source": [
    "Good Loan KPI"
   ]
  },
  {
   "cell_type": "markdown",
   "id": "b32a0930-dd97-449c-b530-1830687ae340",
   "metadata": {},
   "source": [
    "Good_Loan_Percentage"
   ]
  },
  {
   "cell_type": "code",
   "execution_count": 126,
   "id": "c462f6f3-ed1b-4f17-98e9-bc84d70e0271",
   "metadata": {},
   "outputs": [
    {
     "name": "stdout",
     "output_type": "stream",
     "text": [
      "86.18%\n"
     ]
    }
   ],
   "source": [
    "Good_Loan_Percentage=df[df['loan_status'].isin([\"Fully Paid\",\"Current\"])]['id'].count()*100/df['id'].count()\n",
    "print(f\"{Good_Loan_Percentage:.2f}%\")"
   ]
  },
  {
   "cell_type": "markdown",
   "id": "f807b58c-0243-4f56-809a-0b83aac76877",
   "metadata": {},
   "source": [
    "Good Loan Application"
   ]
  },
  {
   "cell_type": "code",
   "execution_count": 136,
   "id": "3be7b51d-f1cf-4368-b317-d5463f29d674",
   "metadata": {},
   "outputs": [
    {
     "data": {
      "text/plain": [
       "33243"
      ]
     },
     "execution_count": 136,
     "metadata": {},
     "output_type": "execute_result"
    }
   ],
   "source": [
    "Good_Loan_Application=df[df['loan_status'].isin([\"Fully Paid\",\"Current\"])]['id'].count()\n",
    "Good_Loan_Application"
   ]
  },
  {
   "cell_type": "markdown",
   "id": "3b84b601-f343-4043-8e02-5044d15add0c",
   "metadata": {},
   "source": [
    "Good Loan Funded Amount"
   ]
  },
  {
   "cell_type": "code",
   "execution_count": 142,
   "id": "130fe319-008e-4890-b9ab-0b2d8b562674",
   "metadata": {},
   "outputs": [
    {
     "data": {
      "text/plain": [
       "370224850"
      ]
     },
     "execution_count": 142,
     "metadata": {},
     "output_type": "execute_result"
    }
   ],
   "source": [
    "Good_Loan_Funded_Amount=df[df['loan_status'].isin([\"Fully Paid\",\"Current\"])]['loan_amount'].sum()\n",
    "Good_Loan_Funded_Amount"
   ]
  },
  {
   "cell_type": "markdown",
   "id": "6925b6ba-79e8-4336-a795-21053aa221c9",
   "metadata": {},
   "source": [
    "Good Loan Received Amount"
   ]
  },
  {
   "cell_type": "code",
   "execution_count": 144,
   "id": "3a324a39-289d-40a8-8d91-b206ae0aa743",
   "metadata": {},
   "outputs": [
    {
     "data": {
      "text/plain": [
       "435786170"
      ]
     },
     "execution_count": 144,
     "metadata": {},
     "output_type": "execute_result"
    }
   ],
   "source": [
    "Good_Loan_Received_Amount=df[df['loan_status'].isin([\"Fully Paid\",\"Current\"])]['total_payment'].sum()\n",
    "Good_Loan_Received_Amount"
   ]
  },
  {
   "cell_type": "markdown",
   "id": "7e4fe101-fc4b-452f-b750-7afce409b6e5",
   "metadata": {},
   "source": [
    "Bad Loan Application"
   ]
  },
  {
   "cell_type": "code",
   "execution_count": 148,
   "id": "c21e068f-54ec-41ab-896d-63876a43f749",
   "metadata": {},
   "outputs": [
    {
     "data": {
      "text/plain": [
       "5333"
      ]
     },
     "execution_count": 148,
     "metadata": {},
     "output_type": "execute_result"
    }
   ],
   "source": [
    "Bad_Loan_Application=df[df['loan_status'].isin([\"Charged Off\"])]['id'].count()\n",
    "Bad_Loan_Application"
   ]
  },
  {
   "cell_type": "markdown",
   "id": "ab6c1d25-637c-4ee5-88f5-d1195c1e2f05",
   "metadata": {},
   "source": [
    "Bad Loan Percentage"
   ]
  },
  {
   "cell_type": "code",
   "execution_count": 158,
   "id": "c4c4a9ab-71a7-4409-8a6d-a4b4e1041c74",
   "metadata": {},
   "outputs": [
    {
     "name": "stdout",
     "output_type": "stream",
     "text": [
      "13.82\n"
     ]
    }
   ],
   "source": [
    "Bad_Loan_Percentage=df[df['loan_status'].isin([\"Charged Off\"])]['id'].count()*100/df['id'].count()\n",
    "print(f\"{Bad_Loan_Percentage:.2f}\")"
   ]
  },
  {
   "cell_type": "markdown",
   "id": "48337996-5b35-438d-8b00-7e62f3a25953",
   "metadata": {},
   "source": [
    "Bad Loan Funded Amount"
   ]
  },
  {
   "cell_type": "code",
   "execution_count": null,
   "id": "95a01c27-d85e-43a6-a81f-bf04d46f7c4f",
   "metadata": {},
   "outputs": [],
   "source": [
    "Bad_Loan_Funded_Amount=df[df['loan_status'].isin([\"Charged Off\"])]['loan_amount'].sum()\n",
    "Bad_Loan_Funded_Amount"
   ]
  },
  {
   "cell_type": "markdown",
   "id": "d8145322-09d1-42b1-b9a3-6c30ec9cea8b",
   "metadata": {},
   "source": [
    "Bad Loan Received Amount"
   ]
  },
  {
   "cell_type": "code",
   "execution_count": 162,
   "id": "43e4e797-a608-4e9d-8619-970d4a5a6fc3",
   "metadata": {},
   "outputs": [
    {
     "data": {
      "text/plain": [
       "37284763"
      ]
     },
     "execution_count": 162,
     "metadata": {},
     "output_type": "execute_result"
    }
   ],
   "source": [
    "Bad_Loan_Received_Amount=df[df['loan_status'].isin([\"Charged Off\"])]['total_payment'].sum()\n",
    "Bad_Loan_Received_Amount"
   ]
  },
  {
   "cell_type": "code",
   "execution_count": 190,
   "id": "56e90093-cd90-4aba-a3ab-d2c4250ab542",
   "metadata": {},
   "outputs": [
    {
     "data": {
      "text/html": [
       "<div>\n",
       "<style scoped>\n",
       "    .dataframe tbody tr th:only-of-type {\n",
       "        vertical-align: middle;\n",
       "    }\n",
       "\n",
       "    .dataframe tbody tr th {\n",
       "        vertical-align: top;\n",
       "    }\n",
       "\n",
       "    .dataframe thead th {\n",
       "        text-align: right;\n",
       "    }\n",
       "</style>\n",
       "<table border=\"1\" class=\"dataframe\">\n",
       "  <thead>\n",
       "    <tr style=\"text-align: right;\">\n",
       "      <th></th>\n",
       "      <th>loan_status</th>\n",
       "      <th>id</th>\n",
       "    </tr>\n",
       "  </thead>\n",
       "  <tbody>\n",
       "    <tr>\n",
       "      <th>2</th>\n",
       "      <td>Fully Paid</td>\n",
       "      <td>32145</td>\n",
       "    </tr>\n",
       "    <tr>\n",
       "      <th>0</th>\n",
       "      <td>Charged Off</td>\n",
       "      <td>5333</td>\n",
       "    </tr>\n",
       "    <tr>\n",
       "      <th>1</th>\n",
       "      <td>Current</td>\n",
       "      <td>1098</td>\n",
       "    </tr>\n",
       "  </tbody>\n",
       "</table>\n",
       "</div>"
      ],
      "text/plain": [
       "   loan_status     id\n",
       "2   Fully Paid  32145\n",
       "0  Charged Off   5333\n",
       "1      Current   1098"
      ]
     },
     "execution_count": 190,
     "metadata": {},
     "output_type": "execute_result"
    }
   ],
   "source": [
    "Status_Loan_Count=df.groupby('loan_status')['id'].count().reset_index().sort_values(by='id',ascending=False)\n",
    "Status_Loan_Count"
   ]
  },
  {
   "cell_type": "code",
   "execution_count": 232,
   "id": "e0d73d42-d7a9-4d38-b859-89524b82e2e4",
   "metadata": {},
   "outputs": [
    {
     "data": {
      "image/png": "[encoded data removed]",
      "text/plain": [
       "<Figure size 1000x600 with 1 Axes>"
      ]
     },
     "metadata": {},
     "output_type": "display_data"
    }
   ],
   "source": [
    "plt.figure(figsize=(10,6))\n",
    "sns.barplot(x='loan_status',y='id',data=Status_Loan_Count,palette=\"BuPu\",hue='loan_status')\n",
    "plt.title(\"Total Loan Application By Loan Status\")\n",
    "plt.xlabel(\"Loan Status\")\n",
    "plt.ylabel(\"Loan Application\")\n",
    "plt.xticks(rotation=45)\n",
    "plt.show()"
   ]
  },
  {
   "cell_type": "markdown",
   "id": "48fb19ee-103a-427e-9c2d-944124863b1d",
   "metadata": {},
   "source": [
    "Loan Status By Funded Amount"
   ]
  },
  {
   "cell_type": "code",
   "execution_count": 218,
   "id": "2e3c7744-5a65-4ba8-a864-f773af32fa1d",
   "metadata": {},
   "outputs": [
    {
     "data": {
      "text/html": [
       "<div>\n",
       "<style scoped>\n",
       "    .dataframe tbody tr th:only-of-type {\n",
       "        vertical-align: middle;\n",
       "    }\n",
       "\n",
       "    .dataframe tbody tr th {\n",
       "        vertical-align: top;\n",
       "    }\n",
       "\n",
       "    .dataframe thead th {\n",
       "        text-align: right;\n",
       "    }\n",
       "</style>\n",
       "<table border=\"1\" class=\"dataframe\">\n",
       "  <thead>\n",
       "    <tr style=\"text-align: right;\">\n",
       "      <th></th>\n",
       "      <th>loan_status</th>\n",
       "      <th>loan_amount</th>\n",
       "    </tr>\n",
       "  </thead>\n",
       "  <tbody>\n",
       "    <tr>\n",
       "      <th>2</th>\n",
       "      <td>Fully Paid</td>\n",
       "      <td>351358350</td>\n",
       "    </tr>\n",
       "    <tr>\n",
       "      <th>0</th>\n",
       "      <td>Charged Off</td>\n",
       "      <td>65532225</td>\n",
       "    </tr>\n",
       "    <tr>\n",
       "      <th>1</th>\n",
       "      <td>Current</td>\n",
       "      <td>18866500</td>\n",
       "    </tr>\n",
       "  </tbody>\n",
       "</table>\n",
       "</div>"
      ],
      "text/plain": [
       "   loan_status  loan_amount\n",
       "2   Fully Paid    351358350\n",
       "0  Charged Off     65532225\n",
       "1      Current     18866500"
      ]
     },
     "execution_count": 218,
     "metadata": {},
     "output_type": "execute_result"
    }
   ],
   "source": [
    "Loan_Status_By_Funded_Amount=df.groupby('loan_status')['loan_amount'].sum().reset_index().sort_values(by='loan_amount',ascending=False)\n",
    "Loan_Status_By_Funded_Amount"
   ]
  },
  {
   "cell_type": "code",
   "execution_count": 230,
   "id": "6c7c5721-b7be-42cd-ac8e-64bccc01114a",
   "metadata": {},
   "outputs": [
    {
     "data": {
      "image/png": "[encoded data removed]",
      "text/plain": [
       "<Figure size 600x600 with 1 Axes>"
      ]
     },
     "metadata": {},
     "output_type": "display_data"
    }
   ],
   "source": [
    "plt.figure(figsize=(6,6))\n",
    "sns.barplot(x='loan_status',y='loan_amount',data=Loan_Status_By_Funded_Amount,palette = \"YlOrRd\",hue='loan_status')\n",
    "plt.title(\"Loan Status By Funded Loan\")\n",
    "plt.xlabel(\"Loan Status\")\n",
    "plt.ylabel(\"Funded Loan\")\n",
    "plt.xticks(rotation=45)\n",
    "plt.show()"
   ]
  },
  {
   "cell_type": "markdown",
   "id": "e9741e78-692c-48a9-b0b8-7120cf0ec80b",
   "metadata": {},
   "source": [
    "Loan Status By Received Amount"
   ]
  },
  {
   "cell_type": "code",
   "execution_count": 236,
   "id": "af854591-e901-47f0-9040-99d6310f670e",
   "metadata": {},
   "outputs": [
    {
     "data": {
      "text/html": [
       "<div>\n",
       "<style scoped>\n",
       "    .dataframe tbody tr th:only-of-type {\n",
       "        vertical-align: middle;\n",
       "    }\n",
       "\n",
       "    .dataframe tbody tr th {\n",
       "        vertical-align: top;\n",
       "    }\n",
       "\n",
       "    .dataframe thead th {\n",
       "        text-align: right;\n",
       "    }\n",
       "</style>\n",
       "<table border=\"1\" class=\"dataframe\">\n",
       "  <thead>\n",
       "    <tr style=\"text-align: right;\">\n",
       "      <th></th>\n",
       "      <th>loan_status</th>\n",
       "      <th>total_payment</th>\n",
       "    </tr>\n",
       "  </thead>\n",
       "  <tbody>\n",
       "    <tr>\n",
       "      <th>2</th>\n",
       "      <td>Fully Paid</td>\n",
       "      <td>411586256</td>\n",
       "    </tr>\n",
       "    <tr>\n",
       "      <th>0</th>\n",
       "      <td>Charged Off</td>\n",
       "      <td>37284763</td>\n",
       "    </tr>\n",
       "    <tr>\n",
       "      <th>1</th>\n",
       "      <td>Current</td>\n",
       "      <td>24199914</td>\n",
       "    </tr>\n",
       "  </tbody>\n",
       "</table>\n",
       "</div>"
      ],
      "text/plain": [
       "   loan_status  total_payment\n",
       "2   Fully Paid      411586256\n",
       "0  Charged Off       37284763\n",
       "1      Current       24199914"
      ]
     },
     "execution_count": 236,
     "metadata": {},
     "output_type": "execute_result"
    }
   ],
   "source": [
    "Loan_Status_By_Received_Amount=df.groupby('loan_status')['total_payment'].sum().reset_index().sort_values(by='total_payment',ascending=False)\n",
    "Loan_Status_By_Received_Amount"
   ]
  },
  {
   "cell_type": "code",
   "execution_count": 242,
   "id": "d87322bc-b15c-47e6-bc7a-dfde24a77fa3",
   "metadata": {},
   "outputs": [
    {
     "data": {
      "image/png": "[encoded data removed]",
      "text/plain": [
       "<Figure size 700x600 with 1 Axes>"
      ]
     },
     "metadata": {},
     "output_type": "display_data"
    }
   ],
   "source": [
    "plt.figure(figsize=(7,6))\n",
    "sns.barplot(x='loan_status',y='total_payment',data=Loan_Status_By_Received_Amount,palette=\"deep\", hue='loan_status')\n",
    "plt.title(\"Loan Status By Received Amount\")\n",
    "plt.xlabel(\"Loan Status\")\n",
    "plt.ylabel(\"Received Amount\")\n",
    "plt.xticks(rotation=45)\n",
    "plt.show()"
   ]
  },
  {
   "cell_type": "markdown",
   "id": "3b1aa009-1e5c-4802-b4fa-4a14153bef01",
   "metadata": {},
   "source": [
    "Loan Status By Int Rate"
   ]
  },
  {
   "cell_type": "code",
   "execution_count": 252,
   "id": "7cf6b91f-e1b2-4d4c-8aea-d2c4e353b88c",
   "metadata": {},
   "outputs": [
    {
     "data": {
      "text/html": [
       "<div>\n",
       "<style scoped>\n",
       "    .dataframe tbody tr th:only-of-type {\n",
       "        vertical-align: middle;\n",
       "    }\n",
       "\n",
       "    .dataframe tbody tr th {\n",
       "        vertical-align: top;\n",
       "    }\n",
       "\n",
       "    .dataframe thead th {\n",
       "        text-align: right;\n",
       "    }\n",
       "</style>\n",
       "<table border=\"1\" class=\"dataframe\">\n",
       "  <thead>\n",
       "    <tr style=\"text-align: right;\">\n",
       "      <th></th>\n",
       "      <th>loan_status</th>\n",
       "      <th>int_rate</th>\n",
       "    </tr>\n",
       "  </thead>\n",
       "  <tbody>\n",
       "    <tr>\n",
       "      <th>1</th>\n",
       "      <td>Current</td>\n",
       "      <td>15.099326</td>\n",
       "    </tr>\n",
       "    <tr>\n",
       "      <th>0</th>\n",
       "      <td>Charged Off</td>\n",
       "      <td>13.878575</td>\n",
       "    </tr>\n",
       "    <tr>\n",
       "      <th>2</th>\n",
       "      <td>Fully Paid</td>\n",
       "      <td>11.641071</td>\n",
       "    </tr>\n",
       "  </tbody>\n",
       "</table>\n",
       "</div>"
      ],
      "text/plain": [
       "   loan_status   int_rate\n",
       "1      Current  15.099326\n",
       "0  Charged Off  13.878575\n",
       "2   Fully Paid  11.641071"
      ]
     },
     "execution_count": 252,
     "metadata": {},
     "output_type": "execute_result"
    }
   ],
   "source": [
    "Loan_Status_By_Int_Rate=df.groupby('loan_status')['int_rate'].mean().reset_index().assign(int_rate=lambda x: x['int_rate'] * 100).sort_values(by='int_rate',ascending=False)\n",
    "Loan_Status_By_Int_Rate"
   ]
  },
  {
   "cell_type": "code",
   "execution_count": 254,
   "id": "040b261c-7273-41fa-839b-5c1c23ddfb8c",
   "metadata": {},
   "outputs": [
    {
     "data": {
      "image/png": "[encoded data removed]",
      "text/plain": [
       "<Figure size 700x600 with 1 Axes>"
      ]
     },
     "metadata": {},
     "output_type": "display_data"
    }
   ],
   "source": [
    "plt.figure(figsize=(7,6))\n",
    "sns.barplot(x='loan_status',y='int_rate',data=Loan_Status_By_Int_Rate,palette=\"bright\",hue='loan_status')\n",
    "plt.title(\"Loan Status By Int Rate\")\n",
    "plt.xlabel(\"Loan Status\")\n",
    "plt.ylabel(\"Int Rate\")\n",
    "plt.xticks(rotation=45)\n",
    "plt.show()"
   ]
  },
  {
   "cell_type": "markdown",
   "id": "e6c32bea-00cc-4783-bca6-6adf2f02c492",
   "metadata": {},
   "source": [
    "Loan Status By DTI"
   ]
  },
  {
   "cell_type": "code",
   "execution_count": 257,
   "id": "ec89810b-d789-43aa-924a-aa52ca4634ca",
   "metadata": {},
   "outputs": [
    {
     "data": {
      "text/html": [
       "<div>\n",
       "<style scoped>\n",
       "    .dataframe tbody tr th:only-of-type {\n",
       "        vertical-align: middle;\n",
       "    }\n",
       "\n",
       "    .dataframe tbody tr th {\n",
       "        vertical-align: top;\n",
       "    }\n",
       "\n",
       "    .dataframe thead th {\n",
       "        text-align: right;\n",
       "    }\n",
       "</style>\n",
       "<table border=\"1\" class=\"dataframe\">\n",
       "  <thead>\n",
       "    <tr style=\"text-align: right;\">\n",
       "      <th></th>\n",
       "      <th>loan_status</th>\n",
       "      <th>dti</th>\n",
       "      <th>int_rate</th>\n",
       "    </tr>\n",
       "  </thead>\n",
       "  <tbody>\n",
       "    <tr>\n",
       "      <th>1</th>\n",
       "      <td>Current</td>\n",
       "      <td>0.147243</td>\n",
       "      <td>14.724344</td>\n",
       "    </tr>\n",
       "    <tr>\n",
       "      <th>0</th>\n",
       "      <td>Charged Off</td>\n",
       "      <td>0.140047</td>\n",
       "      <td>14.004733</td>\n",
       "    </tr>\n",
       "    <tr>\n",
       "      <th>2</th>\n",
       "      <td>Fully Paid</td>\n",
       "      <td>0.131674</td>\n",
       "      <td>13.167351</td>\n",
       "    </tr>\n",
       "  </tbody>\n",
       "</table>\n",
       "</div>"
      ],
      "text/plain": [
       "   loan_status       dti   int_rate\n",
       "1      Current  0.147243  14.724344\n",
       "0  Charged Off  0.140047  14.004733\n",
       "2   Fully Paid  0.131674  13.167351"
      ]
     },
     "execution_count": 257,
     "metadata": {},
     "output_type": "execute_result"
    }
   ],
   "source": [
    "Loan_Status_By_DTI=df.groupby('loan_status')['dti'].mean().reset_index().assign(int_rate=lambda x: x['dti'] * 100).sort_values(by='dti',ascending=False)\n",
    "Loan_Status_By_DTI"
   ]
  },
  {
   "cell_type": "code",
   "execution_count": 295,
   "id": "f2a432c5-d782-40a5-a10f-9cae6a6e901d",
   "metadata": {},
   "outputs": [
    {
     "data": {
      "image/png": "[encoded data removed]",
      "text/plain": [
       "<Figure size 700x600 with 1 Axes>"
      ]
     },
     "metadata": {},
     "output_type": "display_data"
    }
   ],
   "source": [
    "plt.figure(figsize=(7,6))\n",
    "sns.barplot(x='loan_status',y='dti',data=Loan_Status_By_DTI,palette=\"pastel\",hue='loan_status')\n",
    "plt.title(\"Loan Status By DTI\")\n",
    "plt.xlabel(\"Loan Status\")\n",
    "plt.ylabel(\"DTI\")\n",
    "plt.xticks(rotation=45)\n",
    "plt.show()"
   ]
  },
  {
   "cell_type": "markdown",
   "id": "8ddd8a58-8ccb-429f-9be3-2ea094566e71",
   "metadata": {},
   "source": [
    "Loan Application By Month"
   ]
  },
  {
   "cell_type": "code",
   "execution_count": 305,
   "id": "10f7cd5b-d737-400b-9803-dbfb1d8ede8a",
   "metadata": {},
   "outputs": [
    {
     "data": {
      "text/html": [
       "<div>\n",
       "<style scoped>\n",
       "    .dataframe tbody tr th:only-of-type {\n",
       "        vertical-align: middle;\n",
       "    }\n",
       "\n",
       "    .dataframe tbody tr th {\n",
       "        vertical-align: top;\n",
       "    }\n",
       "\n",
       "    .dataframe thead th {\n",
       "        text-align: right;\n",
       "    }\n",
       "</style>\n",
       "<table border=\"1\" class=\"dataframe\">\n",
       "  <thead>\n",
       "    <tr style=\"text-align: right;\">\n",
       "      <th></th>\n",
       "      <th>id</th>\n",
       "      <th>address_state</th>\n",
       "      <th>application_type</th>\n",
       "      <th>emp_length</th>\n",
       "      <th>emp_title</th>\n",
       "      <th>grade</th>\n",
       "      <th>home_ownership</th>\n",
       "      <th>issue_date</th>\n",
       "      <th>last_credit_pull_date</th>\n",
       "      <th>last_payment_date</th>\n",
       "      <th>...</th>\n",
       "      <th>term</th>\n",
       "      <th>verification_status</th>\n",
       "      <th>annual_income</th>\n",
       "      <th>dti</th>\n",
       "      <th>installment</th>\n",
       "      <th>int_rate</th>\n",
       "      <th>loan_amount</th>\n",
       "      <th>total_acc</th>\n",
       "      <th>total_payment</th>\n",
       "      <th>issue_month</th>\n",
       "    </tr>\n",
       "  </thead>\n",
       "  <tbody>\n",
       "    <tr>\n",
       "      <th>0</th>\n",
       "      <td>238612</td>\n",
       "      <td>NY</td>\n",
       "      <td>INDIVIDUAL</td>\n",
       "      <td>&lt; 1 year</td>\n",
       "      <td>Rochester Institute of Technology</td>\n",
       "      <td>A</td>\n",
       "      <td>RENT</td>\n",
       "      <td>2021-01-08</td>\n",
       "      <td>2021-10-06</td>\n",
       "      <td>2021-10-06</td>\n",
       "      <td>...</td>\n",
       "      <td>36 months</td>\n",
       "      <td>Not Verified</td>\n",
       "      <td>30000.0</td>\n",
       "      <td>0.0368</td>\n",
       "      <td>62.74</td>\n",
       "      <td>0.0807</td>\n",
       "      <td>2000</td>\n",
       "      <td>2</td>\n",
       "      <td>2240</td>\n",
       "      <td>1</td>\n",
       "    </tr>\n",
       "  </tbody>\n",
       "</table>\n",
       "<p>1 rows × 25 columns</p>\n",
       "</div>"
      ],
      "text/plain": [
       "       id address_state application_type emp_length  \\\n",
       "0  238612            NY       INDIVIDUAL   < 1 year   \n",
       "\n",
       "                           emp_title grade home_ownership issue_date  \\\n",
       "0  Rochester Institute of Technology     A           RENT 2021-01-08   \n",
       "\n",
       "  last_credit_pull_date last_payment_date  ...        term  \\\n",
       "0            2021-10-06        2021-10-06  ...   36 months   \n",
       "\n",
       "  verification_status  annual_income     dti installment int_rate loan_amount  \\\n",
       "0        Not Verified        30000.0  0.0368       62.74   0.0807        2000   \n",
       "\n",
       "   total_acc  total_payment  issue_month  \n",
       "0          2           2240            1  \n",
       "\n",
       "[1 rows x 25 columns]"
      ]
     },
     "execution_count": 305,
     "metadata": {},
     "output_type": "execute_result"
    }
   ],
   "source": [
    "df['issue_month']=df['issue_date'].dt.month\n",
    "df.head(1)"
   ]
  },
  {
   "cell_type": "code",
   "execution_count": 313,
   "id": "45695f3c-8e98-40a5-93bc-9187a178959e",
   "metadata": {},
   "outputs": [
    {
     "data": {
      "text/html": [
       "<div>\n",
       "<style scoped>\n",
       "    .dataframe tbody tr th:only-of-type {\n",
       "        vertical-align: middle;\n",
       "    }\n",
       "\n",
       "    .dataframe tbody tr th {\n",
       "        vertical-align: top;\n",
       "    }\n",
       "\n",
       "    .dataframe thead th {\n",
       "        text-align: right;\n",
       "    }\n",
       "</style>\n",
       "<table border=\"1\" class=\"dataframe\">\n",
       "  <thead>\n",
       "    <tr style=\"text-align: right;\">\n",
       "      <th></th>\n",
       "      <th>issue_month</th>\n",
       "      <th>id</th>\n",
       "    </tr>\n",
       "  </thead>\n",
       "  <tbody>\n",
       "    <tr>\n",
       "      <th>0</th>\n",
       "      <td>1</td>\n",
       "      <td>2332</td>\n",
       "    </tr>\n",
       "    <tr>\n",
       "      <th>1</th>\n",
       "      <td>2</td>\n",
       "      <td>2279</td>\n",
       "    </tr>\n",
       "    <tr>\n",
       "      <th>2</th>\n",
       "      <td>3</td>\n",
       "      <td>2627</td>\n",
       "    </tr>\n",
       "    <tr>\n",
       "      <th>3</th>\n",
       "      <td>4</td>\n",
       "      <td>2755</td>\n",
       "    </tr>\n",
       "    <tr>\n",
       "      <th>4</th>\n",
       "      <td>5</td>\n",
       "      <td>2911</td>\n",
       "    </tr>\n",
       "    <tr>\n",
       "      <th>5</th>\n",
       "      <td>6</td>\n",
       "      <td>3184</td>\n",
       "    </tr>\n",
       "    <tr>\n",
       "      <th>6</th>\n",
       "      <td>7</td>\n",
       "      <td>3366</td>\n",
       "    </tr>\n",
       "    <tr>\n",
       "      <th>7</th>\n",
       "      <td>8</td>\n",
       "      <td>3441</td>\n",
       "    </tr>\n",
       "    <tr>\n",
       "      <th>8</th>\n",
       "      <td>9</td>\n",
       "      <td>3536</td>\n",
       "    </tr>\n",
       "    <tr>\n",
       "      <th>9</th>\n",
       "      <td>10</td>\n",
       "      <td>3796</td>\n",
       "    </tr>\n",
       "    <tr>\n",
       "      <th>10</th>\n",
       "      <td>11</td>\n",
       "      <td>4035</td>\n",
       "    </tr>\n",
       "    <tr>\n",
       "      <th>11</th>\n",
       "      <td>12</td>\n",
       "      <td>4314</td>\n",
       "    </tr>\n",
       "  </tbody>\n",
       "</table>\n",
       "</div>"
      ],
      "text/plain": [
       "    issue_month    id\n",
       "0             1  2332\n",
       "1             2  2279\n",
       "2             3  2627\n",
       "3             4  2755\n",
       "4             5  2911\n",
       "5             6  3184\n",
       "6             7  3366\n",
       "7             8  3441\n",
       "8             9  3536\n",
       "9            10  3796\n",
       "10           11  4035\n",
       "11           12  4314"
      ]
     },
     "execution_count": 313,
     "metadata": {},
     "output_type": "execute_result"
    }
   ],
   "source": [
    "Loan_Application_By_Month=df.groupby('issue_month')['id'].count().reset_index().sort_values(by='issue_month',ascending=True)\n",
    "Loan_Application_By_Month"
   ]
  },
  {
   "cell_type": "code",
   "execution_count": 315,
   "id": "ad0ea337-d7e8-4183-887b-98749aed28b4",
   "metadata": {},
   "outputs": [],
   "source": [
    "month_map = {\n",
    "    1: 'Jan', 2: 'Feb', 3: 'Mar', 4: 'Apr',\n",
    "    5: 'May', 6: 'Jun', 7: 'Jul', 8: 'Aug',\n",
    "    9: 'Sep', 10: 'Oct', 11: 'Nov', 12: 'Dec'\n",
    "}"
   ]
  },
  {
   "cell_type": "code",
   "execution_count": 317,
   "id": "f5f8f177-11be-46c0-88c8-084bf6beb4b3",
   "metadata": {},
   "outputs": [],
   "source": [
    "Loan_Application_By_Month['issue_month'] = Loan_Application_By_Month['issue_month'].map(month_map)"
   ]
  },
  {
   "cell_type": "code",
   "execution_count": 343,
   "id": "20fef8e1-9825-4f5c-8c4c-977f677b94af",
   "metadata": {},
   "outputs": [
    {
     "data": {
      "image/png": "[encoded data removed]",
      "text/plain": [
       "<Figure size 1000x600 with 1 Axes>"
      ]
     },
     "metadata": {},
     "output_type": "display_data"
    }
   ],
   "source": [
    "plt.figure(figsize=(10,6))\n",
    "sns.lineplot(x='issue_month',y='id',data=Loan_Application_By_Month,marker='o')\n",
    "plt.title(\"Loan Application by Month\")\n",
    "plt.xlabel(\"Month\")\n",
    "plt.ylabel(\"Application\")\n",
    "plt.tight_layout()\n",
    "plt.grid(True)\n",
    "plt.show()"
   ]
  },
  {
   "cell_type": "markdown",
   "id": "f6e90213-9f84-459b-a1cf-0085bca333ee",
   "metadata": {},
   "source": [
    "Loan Application By Employyee Length"
   ]
  },
  {
   "cell_type": "code",
   "execution_count": 354,
   "id": "25ce3615-bc5e-4f21-af67-5b23829e3a10",
   "metadata": {},
   "outputs": [
    {
     "data": {
      "text/html": [
       "<div>\n",
       "<style scoped>\n",
       "    .dataframe tbody tr th:only-of-type {\n",
       "        vertical-align: middle;\n",
       "    }\n",
       "\n",
       "    .dataframe tbody tr th {\n",
       "        vertical-align: top;\n",
       "    }\n",
       "\n",
       "    .dataframe thead th {\n",
       "        text-align: right;\n",
       "    }\n",
       "</style>\n",
       "<table border=\"1\" class=\"dataframe\">\n",
       "  <thead>\n",
       "    <tr style=\"text-align: right;\">\n",
       "      <th></th>\n",
       "      <th>emp_length</th>\n",
       "      <th>id</th>\n",
       "    </tr>\n",
       "  </thead>\n",
       "  <tbody>\n",
       "    <tr>\n",
       "      <th>1</th>\n",
       "      <td>10+ years</td>\n",
       "      <td>8870</td>\n",
       "    </tr>\n",
       "    <tr>\n",
       "      <th>10</th>\n",
       "      <td>&lt; 1 year</td>\n",
       "      <td>4575</td>\n",
       "    </tr>\n",
       "    <tr>\n",
       "      <th>2</th>\n",
       "      <td>2 years</td>\n",
       "      <td>4382</td>\n",
       "    </tr>\n",
       "    <tr>\n",
       "      <th>3</th>\n",
       "      <td>3 years</td>\n",
       "      <td>4088</td>\n",
       "    </tr>\n",
       "    <tr>\n",
       "      <th>4</th>\n",
       "      <td>4 years</td>\n",
       "      <td>3428</td>\n",
       "    </tr>\n",
       "    <tr>\n",
       "      <th>5</th>\n",
       "      <td>5 years</td>\n",
       "      <td>3273</td>\n",
       "    </tr>\n",
       "    <tr>\n",
       "      <th>0</th>\n",
       "      <td>1 year</td>\n",
       "      <td>3229</td>\n",
       "    </tr>\n",
       "    <tr>\n",
       "      <th>6</th>\n",
       "      <td>6 years</td>\n",
       "      <td>2228</td>\n",
       "    </tr>\n",
       "    <tr>\n",
       "      <th>7</th>\n",
       "      <td>7 years</td>\n",
       "      <td>1772</td>\n",
       "    </tr>\n",
       "    <tr>\n",
       "      <th>8</th>\n",
       "      <td>8 years</td>\n",
       "      <td>1476</td>\n",
       "    </tr>\n",
       "    <tr>\n",
       "      <th>9</th>\n",
       "      <td>9 years</td>\n",
       "      <td>1255</td>\n",
       "    </tr>\n",
       "  </tbody>\n",
       "</table>\n",
       "</div>"
      ],
      "text/plain": [
       "   emp_length    id\n",
       "1   10+ years  8870\n",
       "10   < 1 year  4575\n",
       "2     2 years  4382\n",
       "3     3 years  4088\n",
       "4     4 years  3428\n",
       "5     5 years  3273\n",
       "0      1 year  3229\n",
       "6     6 years  2228\n",
       "7     7 years  1772\n",
       "8     8 years  1476\n",
       "9     9 years  1255"
      ]
     },
     "execution_count": 354,
     "metadata": {},
     "output_type": "execute_result"
    }
   ],
   "source": [
    "Loan_Application_By_Employyee_Length=df.groupby('emp_length')['id'].count().reset_index().sort_values(by='id',ascending=False)\n",
    "Loan_Application_By_Employyee_Length"
   ]
  },
  {
   "cell_type": "code",
   "execution_count": 368,
   "id": "ca2bf238-1165-47a4-b3ec-71c8ddda771a",
   "metadata": {},
   "outputs": [
    {
     "data": {
      "image/png": "[encoded data removed]",
      "text/plain": [
       "<Figure size 1000x600 with 1 Axes>"
      ]
     },
     "metadata": {},
     "output_type": "display_data"
    }
   ],
   "source": [
    "plt.figure(figsize=(10,6))\n",
    "sns.barplot(x='id',y='emp_length',data=Loan_Application_By_Employyee_Length,hue='emp_length',palette='viridis')\n",
    "plt.xlabel(\"Loan Application\")\n",
    "plt.ylabel(\"Emp Length\")\n",
    "plt.tight_layout()\n",
    "plt.show()"
   ]
  },
  {
   "cell_type": "markdown",
   "id": "ade0dea5-f2cd-449b-8f40-7e15127322da",
   "metadata": {},
   "source": [
    "Total Loan Application By Purpose"
   ]
  },
  {
   "cell_type": "code",
   "execution_count": 362,
   "id": "0204c6b1-a247-4114-873a-e158bba99472",
   "metadata": {},
   "outputs": [
    {
     "data": {
      "text/html": [
       "<div>\n",
       "<style scoped>\n",
       "    .dataframe tbody tr th:only-of-type {\n",
       "        vertical-align: middle;\n",
       "    }\n",
       "\n",
       "    .dataframe tbody tr th {\n",
       "        vertical-align: top;\n",
       "    }\n",
       "\n",
       "    .dataframe thead th {\n",
       "        text-align: right;\n",
       "    }\n",
       "</style>\n",
       "<table border=\"1\" class=\"dataframe\">\n",
       "  <thead>\n",
       "    <tr style=\"text-align: right;\">\n",
       "      <th></th>\n",
       "      <th>purpose</th>\n",
       "      <th>id</th>\n",
       "    </tr>\n",
       "  </thead>\n",
       "  <tbody>\n",
       "    <tr>\n",
       "      <th>0</th>\n",
       "      <td>Debt consolidation</td>\n",
       "      <td>18214</td>\n",
       "    </tr>\n",
       "    <tr>\n",
       "      <th>2</th>\n",
       "      <td>credit card</td>\n",
       "      <td>4998</td>\n",
       "    </tr>\n",
       "    <tr>\n",
       "      <th>9</th>\n",
       "      <td>other</td>\n",
       "      <td>3824</td>\n",
       "    </tr>\n",
       "    <tr>\n",
       "      <th>4</th>\n",
       "      <td>home improvement</td>\n",
       "      <td>2876</td>\n",
       "    </tr>\n",
       "    <tr>\n",
       "      <th>6</th>\n",
       "      <td>major purchase</td>\n",
       "      <td>2110</td>\n",
       "    </tr>\n",
       "    <tr>\n",
       "      <th>11</th>\n",
       "      <td>small business</td>\n",
       "      <td>1776</td>\n",
       "    </tr>\n",
       "    <tr>\n",
       "      <th>1</th>\n",
       "      <td>car</td>\n",
       "      <td>1497</td>\n",
       "    </tr>\n",
       "    <tr>\n",
       "      <th>13</th>\n",
       "      <td>wedding</td>\n",
       "      <td>928</td>\n",
       "    </tr>\n",
       "    <tr>\n",
       "      <th>7</th>\n",
       "      <td>medical</td>\n",
       "      <td>667</td>\n",
       "    </tr>\n",
       "    <tr>\n",
       "      <th>8</th>\n",
       "      <td>moving</td>\n",
       "      <td>559</td>\n",
       "    </tr>\n",
       "    <tr>\n",
       "      <th>5</th>\n",
       "      <td>house</td>\n",
       "      <td>366</td>\n",
       "    </tr>\n",
       "    <tr>\n",
       "      <th>12</th>\n",
       "      <td>vacation</td>\n",
       "      <td>352</td>\n",
       "    </tr>\n",
       "    <tr>\n",
       "      <th>3</th>\n",
       "      <td>educational</td>\n",
       "      <td>315</td>\n",
       "    </tr>\n",
       "    <tr>\n",
       "      <th>10</th>\n",
       "      <td>renewable_energy</td>\n",
       "      <td>94</td>\n",
       "    </tr>\n",
       "  </tbody>\n",
       "</table>\n",
       "</div>"
      ],
      "text/plain": [
       "               purpose     id\n",
       "0   Debt consolidation  18214\n",
       "2          credit card   4998\n",
       "9                other   3824\n",
       "4     home improvement   2876\n",
       "6       major purchase   2110\n",
       "11      small business   1776\n",
       "1                  car   1497\n",
       "13             wedding    928\n",
       "7              medical    667\n",
       "8               moving    559\n",
       "5                house    366\n",
       "12            vacation    352\n",
       "3          educational    315\n",
       "10    renewable_energy     94"
      ]
     },
     "execution_count": 362,
     "metadata": {},
     "output_type": "execute_result"
    }
   ],
   "source": [
    "Total_Loan_Application_By_Purpose=df.groupby('purpose')['id'].count().reset_index().sort_values(by='id',ascending=False)\n",
    "Total_Loan_Application_By_Purpose"
   ]
  },
  {
   "cell_type": "code",
   "execution_count": 366,
   "id": "70b8ef59-195e-4152-8ff4-080bac453002",
   "metadata": {},
   "outputs": [
    {
     "data": {
      "image/png": "[encoded data removed]",
      "text/plain": [
       "<Figure size 1000x600 with 1 Axes>"
      ]
     },
     "metadata": {},
     "output_type": "display_data"
    }
   ],
   "source": [
    "plt.figure(figsize=(10,6))\n",
    "sns.barplot(x='id',y='purpose',data=Total_Loan_Application_By_Purpose,hue='purpose',palette='terrain')\n",
    "plt.xlabel(\"Loan Application\")\n",
    "plt.ylabel(\"Purpose\")\n",
    "plt.tight_layout()\n",
    "plt.show()"
   ]
  },
  {
   "cell_type": "code",
   "execution_count": null,
   "id": "c0b437b3-52cd-447c-9b58-b88f73b96dca",
   "metadata": {},
   "outputs": [],
   "source": [
    "Total Loan Application By Term"
   ]
  },
  {
   "cell_type": "code",
   "execution_count": 373,
   "id": "a573ddc5-683d-4d63-89f0-eb53f8fe4557",
   "metadata": {},
   "outputs": [
    {
     "data": {
      "text/html": [
       "<div>\n",
       "<style scoped>\n",
       "    .dataframe tbody tr th:only-of-type {\n",
       "        vertical-align: middle;\n",
       "    }\n",
       "\n",
       "    .dataframe tbody tr th {\n",
       "        vertical-align: top;\n",
       "    }\n",
       "\n",
       "    .dataframe thead th {\n",
       "        text-align: right;\n",
       "    }\n",
       "</style>\n",
       "<table border=\"1\" class=\"dataframe\">\n",
       "  <thead>\n",
       "    <tr style=\"text-align: right;\">\n",
       "      <th></th>\n",
       "      <th>term</th>\n",
       "      <th>id</th>\n",
       "    </tr>\n",
       "  </thead>\n",
       "  <tbody>\n",
       "    <tr>\n",
       "      <th>0</th>\n",
       "      <td>36 months</td>\n",
       "      <td>28237</td>\n",
       "    </tr>\n",
       "    <tr>\n",
       "      <th>1</th>\n",
       "      <td>60 months</td>\n",
       "      <td>10339</td>\n",
       "    </tr>\n",
       "  </tbody>\n",
       "</table>\n",
       "</div>"
      ],
      "text/plain": [
       "         term     id\n",
       "0   36 months  28237\n",
       "1   60 months  10339"
      ]
     },
     "execution_count": 373,
     "metadata": {},
     "output_type": "execute_result"
    }
   ],
   "source": [
    "Total_Loan_Application_By_Term=df.groupby('term')['id'].count().reset_index()\n",
    "Total_Loan_Application_By_Term"
   ]
  },
  {
   "cell_type": "code",
   "execution_count": 381,
   "id": "6a57521c-2e0e-4926-875a-85bebc37fb88",
   "metadata": {},
   "outputs": [
    {
     "data": {
      "image/png": "[encoded data removed]",
      "text/plain": [
       "<Figure size 1000x600 with 1 Axes>"
      ]
     },
     "metadata": {},
     "output_type": "display_data"
    }
   ],
   "source": [
    "plt.figure(figsize=(10,6))\n",
    "plt.pie(Total_Loan_Application_By_Term['id'],\n",
    "       labels=Total_Loan_Application_By_Term['term'],\n",
    "       autopct='%1.1f%%',\n",
    "       startangle=90)\n",
    "plt.title(\"Total Loan Application By Term\")\n",
    "plt.axis('equal')\n",
    "plt.show()"
   ]
  },
  {
   "cell_type": "markdown",
   "id": "f3905ac4-4ab3-41a6-bd94-ad5b4cbfc5df",
   "metadata": {},
   "source": [
    "Loan Application By Home Ownership"
   ]
  },
  {
   "cell_type": "code",
   "execution_count": 405,
   "id": "dc17e89f-5863-4e7d-b412-840522b2c707",
   "metadata": {},
   "outputs": [
    {
     "data": {
      "text/html": [
       "<div>\n",
       "<style scoped>\n",
       "    .dataframe tbody tr th:only-of-type {\n",
       "        vertical-align: middle;\n",
       "    }\n",
       "\n",
       "    .dataframe tbody tr th {\n",
       "        vertical-align: top;\n",
       "    }\n",
       "\n",
       "    .dataframe thead th {\n",
       "        text-align: right;\n",
       "    }\n",
       "</style>\n",
       "<table border=\"1\" class=\"dataframe\">\n",
       "  <thead>\n",
       "    <tr style=\"text-align: right;\">\n",
       "      <th></th>\n",
       "      <th>home_ownership</th>\n",
       "      <th>id</th>\n",
       "    </tr>\n",
       "  </thead>\n",
       "  <tbody>\n",
       "    <tr>\n",
       "      <th>4</th>\n",
       "      <td>RENT</td>\n",
       "      <td>18439</td>\n",
       "    </tr>\n",
       "    <tr>\n",
       "      <th>0</th>\n",
       "      <td>MORTGAGE</td>\n",
       "      <td>17198</td>\n",
       "    </tr>\n",
       "    <tr>\n",
       "      <th>3</th>\n",
       "      <td>OWN</td>\n",
       "      <td>2838</td>\n",
       "    </tr>\n",
       "    <tr>\n",
       "      <th>2</th>\n",
       "      <td>OTHER</td>\n",
       "      <td>98</td>\n",
       "    </tr>\n",
       "    <tr>\n",
       "      <th>1</th>\n",
       "      <td>NONE</td>\n",
       "      <td>3</td>\n",
       "    </tr>\n",
       "  </tbody>\n",
       "</table>\n",
       "</div>"
      ],
      "text/plain": [
       "  home_ownership     id\n",
       "4           RENT  18439\n",
       "0       MORTGAGE  17198\n",
       "3            OWN   2838\n",
       "2          OTHER     98\n",
       "1           NONE      3"
      ]
     },
     "execution_count": 405,
     "metadata": {},
     "output_type": "execute_result"
    }
   ],
   "source": [
    "Loan_Application_By_Home_Ownership=df.groupby('home_ownership')['id'].count().reset_index().sort_values(by='id',ascending=False)\n",
    "Loan_Application_By_Home_Ownership"
   ]
  },
  {
   "cell_type": "code",
   "execution_count": 419,
   "id": "86e2b499-b734-4896-8166-6de634834668",
   "metadata": {},
   "outputs": [
    {
     "data": {
      "image/png": "[encoded data removed]",
      "text/plain": [
       "<Figure size 1000x600 with 1 Axes>"
      ]
     },
     "metadata": {},
     "output_type": "display_data"
    }
   ],
   "source": [
    "plt.figure(figsize=(10,6))\n",
    "sns.barplot(x='id',y='home_ownership',data=Loan_Application_By_Home_Ownership,hue='home_ownership',palette='crest')\n",
    "plt.title(\"Loan Applications by Home Ownership\", )  \n",
    "plt.xlabel('Loan Application')\n",
    "plt.ylabel(\"Home Ownership\")\n",
    "plt.tight_layout()  \n",
    "plt.show()"
   ]
  },
  {
   "cell_type": "markdown",
   "id": "3d9690f9-7a43-4b4b-98ce-ac8e75e6e5ec",
   "metadata": {},
   "source": [
    "Loan Application By State"
   ]
  },
  {
   "cell_type": "code",
   "execution_count": 425,
   "id": "b8013279-04ed-4454-83b4-b2f5be63d82b",
   "metadata": {},
   "outputs": [
    {
     "data": {
      "text/html": [
       "<div>\n",
       "<style scoped>\n",
       "    .dataframe tbody tr th:only-of-type {\n",
       "        vertical-align: middle;\n",
       "    }\n",
       "\n",
       "    .dataframe tbody tr th {\n",
       "        vertical-align: top;\n",
       "    }\n",
       "\n",
       "    .dataframe thead th {\n",
       "        text-align: right;\n",
       "    }\n",
       "</style>\n",
       "<table border=\"1\" class=\"dataframe\">\n",
       "  <thead>\n",
       "    <tr style=\"text-align: right;\">\n",
       "      <th></th>\n",
       "      <th>address_state</th>\n",
       "      <th>id</th>\n",
       "    </tr>\n",
       "  </thead>\n",
       "  <tbody>\n",
       "    <tr>\n",
       "      <th>4</th>\n",
       "      <td>CA</td>\n",
       "      <td>6894</td>\n",
       "    </tr>\n",
       "    <tr>\n",
       "      <th>33</th>\n",
       "      <td>NY</td>\n",
       "      <td>3701</td>\n",
       "    </tr>\n",
       "    <tr>\n",
       "      <th>9</th>\n",
       "      <td>FL</td>\n",
       "      <td>2773</td>\n",
       "    </tr>\n",
       "    <tr>\n",
       "      <th>42</th>\n",
       "      <td>TX</td>\n",
       "      <td>2664</td>\n",
       "    </tr>\n",
       "    <tr>\n",
       "      <th>30</th>\n",
       "      <td>NJ</td>\n",
       "      <td>1822</td>\n",
       "    </tr>\n",
       "    <tr>\n",
       "      <th>14</th>\n",
       "      <td>IL</td>\n",
       "      <td>1486</td>\n",
       "    </tr>\n",
       "    <tr>\n",
       "      <th>37</th>\n",
       "      <td>PA</td>\n",
       "      <td>1482</td>\n",
       "    </tr>\n",
       "    <tr>\n",
       "      <th>44</th>\n",
       "      <td>VA</td>\n",
       "      <td>1375</td>\n",
       "    </tr>\n",
       "    <tr>\n",
       "      <th>10</th>\n",
       "      <td>GA</td>\n",
       "      <td>1355</td>\n",
       "    </tr>\n",
       "    <tr>\n",
       "      <th>19</th>\n",
       "      <td>MA</td>\n",
       "      <td>1310</td>\n",
       "    </tr>\n",
       "  </tbody>\n",
       "</table>\n",
       "</div>"
      ],
      "text/plain": [
       "   address_state    id\n",
       "4             CA  6894\n",
       "33            NY  3701\n",
       "9             FL  2773\n",
       "42            TX  2664\n",
       "30            NJ  1822\n",
       "14            IL  1486\n",
       "37            PA  1482\n",
       "44            VA  1375\n",
       "10            GA  1355\n",
       "19            MA  1310"
      ]
     },
     "execution_count": 425,
     "metadata": {},
     "output_type": "execute_result"
    }
   ],
   "source": [
    "Loan_Application_By_State=df.groupby('address_state')['id'].count().reset_index().sort_values(by='id',ascending=False).head(10)\n",
    "Loan_Application_By_State"
   ]
  },
  {
   "cell_type": "code",
   "execution_count": 431,
   "id": "0ff903be-a821-4ccd-b82a-bda421087bcc",
   "metadata": {},
   "outputs": [
    {
     "data": {
      "image/png": "[encoded data removed]",
      "text/plain": [
       "<Figure size 1000x600 with 1 Axes>"
      ]
     },
     "metadata": {},
     "output_type": "display_data"
    }
   ],
   "source": [
    "plt.figure(figsize=(10,6))\n",
    "sns.barplot(x='id',y='address_state',data=Loan_Application_By_State,hue='address_state',palette='terrain')\n",
    "plt.title(\"Loan Application By State\")\n",
    "plt.xlabel(\"Loan Application\")\n",
    "plt.ylabel(\"State\")\n",
    "plt.tight_layout()\n",
    "plt.show()"
   ]
  },
  {
   "cell_type": "code",
   "execution_count": null,
   "id": "16210912-d9bd-495f-b84d-fb78080193bc",
   "metadata": {},
   "outputs": [],
   "source": []
  }
 ],
 "metadata": {
  "kernelspec": {
   "display_name": "Python [conda env:base] *",
   "language": "python",
   "name": "conda-base-py"
  },
  "language_info": {
   "codemirror_mode": {
    "name": "ipython",
    "version": 3
   },
   "file_extension": ".py",
   "mimetype": "text/x-python",
   "name": "python",
   "nbconvert_exporter": "python",
   "pygments_lexer": "ipython3",
   "version": "3.12.7"
  }
 },
 "nbformat": 4,
 "nbformat_minor": 5
}
